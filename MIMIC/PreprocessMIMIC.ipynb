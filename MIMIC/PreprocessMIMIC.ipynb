{
 "cells": [
  {
   "cell_type": "code",
   "execution_count": 1,
   "metadata": {
    "collapsed": false
   },
   "outputs": [
    {
     "name": "stdout",
     "output_type": "stream",
     "text": [
      "((3246466, 2), (3228916, 2), (3235531, 2), (7943034, 2), (2846453, 2), (2870169, 2), (2863468, 2), (6123824, 2), (2685457, 2))\n"
     ]
    }
   ],
   "source": [
    "import pandas as pd\n",
    "import numpy as np\n",
    "\n",
    "df = pd.DataFrame(columns=['HADMID', 'Arterial_BP_mean', 'Arterial_SBP', 'Arterial_DBP', 'HR',\n",
    "                           'NI_BP_mean', 'NI_SBP', 'NI_DBP', 'Resp_rate', 'SpO2'])\n",
    "\n",
    "a_bp_mean = pd.read_csv('/data/SPRINT/MIMIC/arterial_bp_mean.csv')\n",
    "a_dbp = pd.read_csv('/data/SPRINT/MIMIC/arterial_dbp.csv')\n",
    "a_sbp = pd.read_csv('/data/SPRINT/MIMIC/arterial_sbp.csv')\n",
    "hr = pd.read_csv('/data/SPRINT/MIMIC/hr.csv')\n",
    "ni_bp_mean = pd.read_csv('/data/SPRINT/MIMIC/ni_bp_mean.csv')\n",
    "ni_sbp = pd.read_csv('/data/SPRINT/MIMIC/ni_sbp.csv')\n",
    "ni_dbp = pd.read_csv('/data/SPRINT/MIMIC/ni_dbp.csv')\n",
    "resp_rate = pd.read_csv('/data/SPRINT/MIMIC/resp_rate.csv')\n",
    "SpO2 = pd.read_csv('/data/SPRINT/MIMIC/spo2.csv')\n",
    "\n",
    "print(a_bp_mean.shape, a_dbp.shape, a_sbp.shape, hr.shape, ni_bp_mean.shape, ni_sbp.shape,\n",
    "      ni_dbp.shape, resp_rate.shape, SpO2.shape)"
   ]
  },
  {
   "cell_type": "code",
   "execution_count": 2,
   "metadata": {
    "collapsed": false
   },
   "outputs": [
    {
     "name": "stdout",
     "output_type": "stream",
     "text": [
      "(57272, 1)\n",
      "(72600, 2)\n"
     ]
    }
   ],
   "source": [
    "admissions = pd.read_csv('/data/SPRINT/MIMIC/admissions.csv')\n",
    "print(admissions.shape)\n",
    "\n",
    "labels = pd.read_csv('/data/SPRINT/MIMIC/labels.csv')\n",
    "print(labels.shape)"
   ]
  },
  {
   "cell_type": "code",
   "execution_count": 3,
   "metadata": {
    "collapsed": false
   },
   "outputs": [
    {
     "name": "stdout",
     "output_type": "stream",
     "text": [
      "Index([u'HADM_ID', u'HEART_FAILURE'], dtype='object')\n",
      "(1000, 151)\n",
      "(2000, 317)\n",
      "(3000, 457)\n",
      "(4000, 599)\n",
      "(5000, 737)\n",
      "(6000, 888)\n",
      "(7000, 1037)\n",
      "(8000, 1189)\n",
      "(9000, 1342)\n",
      "(10000, 1472)\n",
      "(11000, 1628)\n",
      "(12000, 1765)\n",
      "(13000, 1910)\n",
      "(14000, 2066)\n",
      "(15000, 2204)\n",
      "(16000, 2346)\n",
      "(17000, 2482)\n",
      "(18000, 2627)\n",
      "(19000, 2770)\n",
      "(20000, 2941)\n",
      "(21000, 3085)\n",
      "(22000, 3230)\n",
      "(23000, 3379)\n",
      "(24000, 3531)\n",
      "(25000, 3675)\n",
      "(26000, 3815)\n",
      "(27000, 3952)\n",
      "(28000, 4100)\n",
      "(29000, 4266)\n",
      "(30000, 4399)\n",
      "(31000, 4543)\n",
      "(32000, 4682)\n",
      "(33000, 4836)\n",
      "(34000, 5004)\n",
      "(35000, 5152)\n",
      "(36000, 5321)\n",
      "(37000, 5475)\n",
      "(38000, 5610)\n",
      "(39000, 5749)\n",
      "(40000, 5906)\n",
      "(41000, 6055)\n",
      "(42000, 6190)\n",
      "(43000, 6335)\n",
      "(44000, 6495)\n",
      "(45000, 6652)\n",
      "(46000, 6802)\n",
      "(47000, 6965)\n",
      "(48000, 7119)\n",
      "(49000, 7263)\n",
      "(50000, 7408)\n",
      "(51000, 7564)\n",
      "(52000, 7699)\n",
      "(53000, 7843)\n",
      "(54000, 7982)\n",
      "(55000, 8139)\n",
      "(56000, 8276)\n",
      "(57000, 8425)\n"
     ]
    }
   ],
   "source": [
    "print(labels.columns)\n",
    "\n",
    "\n",
    "i = 0\n",
    "j = 0\n",
    "\n",
    "X_array = np.array([], dtype=float)\n",
    "y_array = np.array([])\n",
    "\n",
    "# filter and find admissions with 10 of each category\n",
    "for index, row in admissions.iterrows():\n",
    "    min_row_count = a_bp_mean.loc[a_bp_mean['HADM_ID'] == row['HADM_ID']].shape[0]\n",
    "    min_row_count = min(min_row_count, \n",
    "                        a_dbp.loc[a_dbp['HADM_ID'] == row['HADM_ID']].shape[0])\n",
    "    min_row_count = min(min_row_count,\n",
    "                        a_sbp.loc[a_sbp['HADM_ID'] == row['HADM_ID']].shape[0])\n",
    "    min_row_count = min(min_row_count,\n",
    "                        hr.loc[hr['HADM_ID'] == row['HADM_ID']].shape[0])\n",
    "    min_row_count = min(min_row_count,\n",
    "                        ni_bp_mean.loc[ni_bp_mean['HADM_ID'] == row['HADM_ID']].shape[0])\n",
    "    min_row_count = min(min_row_count,\n",
    "                        ni_sbp.loc[ni_sbp['HADM_ID'] == row['HADM_ID']].shape[0])\n",
    "    min_row_count = min(min_row_count,\n",
    "                        ni_dbp.loc[ni_dbp['HADM_ID'] == row['HADM_ID']].shape[0])\n",
    "    min_row_count = min(min_row_count,\n",
    "                        resp_rate.loc[resp_rate['HADM_ID'] == row['HADM_ID']].shape[0])\n",
    "    min_row_count = min(min_row_count,\n",
    "                        SpO2.loc[SpO2['HADM_ID'] == row['HADM_ID']].shape[0])\n",
    "    \n",
    "    if min_row_count > 4:\n",
    "        j += 1\n",
    "        x_row = [a_bp_mean.loc[a_bp_mean['HADM_ID'] == row['HADM_ID']].head(5)['arterial_bp_mean'].values,\n",
    "                 a_sbp.loc[a_sbp['HADM_ID'] == row['HADM_ID']].head(5)['arterial_sbp'].values,\n",
    "                 a_dbp.loc[a_dbp['HADM_ID'] == row['HADM_ID']].head(5)['arterial_dbp'].values,\n",
    "                 hr.loc[hr['HADM_ID'] == row['HADM_ID']].head(5)['BPM'].values,\n",
    "                 ni_bp_mean.loc[ni_bp_mean['HADM_ID'] == row['HADM_ID']]['ni_bp_mean'].head(5).values,\n",
    "                 ni_sbp.loc[ni_sbp['HADM_ID'] == row['HADM_ID']]['ni_sbp'].head(5).values,\n",
    "                 ni_dbp.loc[ni_dbp['HADM_ID'] == row['HADM_ID']]['ni_dbp'].head(5).values,\n",
    "                 resp_rate.loc[resp_rate['HADM_ID'] == row['HADM_ID']]['resp_rate'].head(5).values,\n",
    "                 SpO2.loc[SpO2['HADM_ID'] == row['HADM_ID']]['SpO2'].head(5).values]\n",
    "        y_row = max(labels.loc[labels['HADM_ID'] == row['HADM_ID']]['HEART_FAILURE'].values)\n",
    "\n",
    "        if X_array.shape[0] == 0:\n",
    "            X_array = np.array([x_row])\n",
    "            y_array = [y_row]\n",
    "        else:\n",
    "            X_array = np.concatenate((X_array, [np.array(x_row)]))\n",
    "            y_array.append(y_row)\n",
    "            \n",
    "    i += 1\n",
    "    if i % 1000 == 0:\n",
    "        print(i, j)"
   ]
  },
  {
   "cell_type": "code",
   "execution_count": 4,
   "metadata": {
    "collapsed": false
   },
   "outputs": [
    {
     "name": "stdout",
     "output_type": "stream",
     "text": [
      "(2170, 8464)\n"
     ]
    }
   ],
   "source": [
    "import pickle as pkl\n",
    "print(sum(y_array), len(y_array))\n",
    "pkl.dump(X_array, open('/data/SPRINT/MIMIC/X_processed_5.pkl', 'wb'))\n",
    "pkl.dump(np.array(y_array), open('/data/SPRINT/MIMIC/y_processed_5.pkl', 'wb'))"
   ]
  }
 ],
 "metadata": {
  "anaconda-cloud": {},
  "kernelspec": {
   "display_name": "Python [conda root]",
   "language": "python",
   "name": "conda-root-py"
  },
  "language_info": {
   "codemirror_mode": {
    "name": "ipython",
    "version": 2
   },
   "file_extension": ".py",
   "mimetype": "text/x-python",
   "name": "python",
   "nbconvert_exporter": "python",
   "pygments_lexer": "ipython2",
   "version": "2.7.12"
  }
 },
 "nbformat": 4,
 "nbformat_minor": 1
}
